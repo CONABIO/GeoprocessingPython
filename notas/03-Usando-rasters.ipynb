{
 "cells": [
  {
   "cell_type": "code",
   "execution_count": 2,
   "metadata": {
    "collapsed": true
   },
   "outputs": [],
   "source": [
    "%matplotlib inline"
   ]
  },
  {
   "cell_type": "code",
   "execution_count": 3,
   "metadata": {
    "collapsed": true
   },
   "outputs": [],
   "source": [
    "import rasterio\n",
    "from glob import glob\n",
    "from matplotlib import pyplot\n",
    "import numpy as np"
   ]
  },
  {
   "cell_type": "code",
   "execution_count": 4,
   "metadata": {
    "collapsed": true
   },
   "outputs": [],
   "source": [
    "rasters_fp = glob('../datos/MDE/*.tif')"
   ]
  },
  {
   "cell_type": "code",
   "execution_count": 5,
   "metadata": {
    "collapsed": false
   },
   "outputs": [
    {
     "data": {
      "text/plain": [
       "['../datos/MDE/m001ef5.tif',\n",
       " '../datos/MDE/m002ef5.tif',\n",
       " '../datos/MDE/m014gh1.tif',\n",
       " '../datos/MDE/m015gh1.tif',\n",
       " '../datos/MDE/m018go1.tif']"
      ]
     },
     "execution_count": 5,
     "metadata": {},
     "output_type": "execute_result"
    }
   ],
   "source": [
    "rasters_fp"
   ]
  },
  {
   "cell_type": "code",
   "execution_count": 6,
   "metadata": {
    "collapsed": true
   },
   "outputs": [],
   "source": [
    "mammal_1 = rasterio.open(rasters_fp[0])"
   ]
  },
  {
   "cell_type": "code",
   "execution_count": 7,
   "metadata": {
    "collapsed": false
   },
   "outputs": [
    {
     "data": {
      "text/plain": [
       "rasterio._io.RasterReader"
      ]
     },
     "execution_count": 7,
     "metadata": {},
     "output_type": "execute_result"
    }
   ],
   "source": [
    "mammal_1.__class__"
   ]
  },
  {
   "cell_type": "code",
   "execution_count": 8,
   "metadata": {
    "collapsed": false
   },
   "outputs": [
    {
     "data": {
      "text/plain": [
       "CRS({u'lon_0': -102, u'datum': u'WGS84', u'y_0': 0, u'no_defs': True, u'proj': u'lcc', u'x_0': 2500000, u'units': u'm', u'lat_2': 29.5, u'lat_1': 17.5, u'lat_0': 12})"
      ]
     },
     "execution_count": 8,
     "metadata": {},
     "output_type": "execute_result"
    }
   ],
   "source": [
    "mammal_1.read_crs()"
   ]
  },
  {
   "cell_type": "code",
   "execution_count": 9,
   "metadata": {
    "collapsed": false
   },
   "outputs": [
    {
     "data": {
      "text/plain": [
       "(2090, 3293)"
      ]
     },
     "execution_count": 9,
     "metadata": {},
     "output_type": "execute_result"
    }
   ],
   "source": [
    "mammal_1.shape"
   ]
  },
  {
   "cell_type": "code",
   "execution_count": 10,
   "metadata": {
    "collapsed": false
   },
   "outputs": [
    {
     "data": {
      "text/plain": [
       "<matplotlib.image.AxesImage at 0x1129e82d0>"
      ]
     },
     "execution_count": 10,
     "metadata": {},
     "output_type": "execute_result"
    },
    {
     "data": {
      "image/png": "[encoded data removed]",
      "text/plain": [
       "<matplotlib.figure.Figure at 0x110dffad0>"
      ]
     },
     "metadata": {},
     "output_type": "display_data"
    }
   ],
   "source": [
    "pyplot.imshow(np.ma.masked_equal(mammal_1.read(1), 255), cmap='BrBG')"
   ]
  },
  {
   "cell_type": "code",
   "execution_count": 11,
   "metadata": {
    "collapsed": false
   },
   "outputs": [],
   "source": [
    "mammal_2 = rasterio.open(rasters_fp[1])"
   ]
  },
  {
   "cell_type": "code",
   "execution_count": 12,
   "metadata": {
    "collapsed": false
   },
   "outputs": [
    {
     "data": {
      "text/plain": [
       "(2090, 3293)"
      ]
     },
     "execution_count": 12,
     "metadata": {},
     "output_type": "execute_result"
    }
   ],
   "source": [
    "mammal_2.shape"
   ]
  },
  {
   "cell_type": "code",
   "execution_count": 13,
   "metadata": {
    "collapsed": false
   },
   "outputs": [
    {
     "data": {
      "text/plain": [
       "BoundingBox(left=860679.3743839164, bottom=282447.16873931885, right=4153679.374383916, top=2372447.168739319)"
      ]
     },
     "execution_count": 13,
     "metadata": {},
     "output_type": "execute_result"
    }
   ],
   "source": [
    "mammal_2.bounds"
   ]
  },
  {
   "cell_type": "code",
   "execution_count": 14,
   "metadata": {
    "collapsed": false
   },
   "outputs": [
    {
     "data": {
      "text/plain": [
       "BoundingBox(left=860679.3743839164, bottom=282447.16873931885, right=4153679.374383916, top=2372447.168739319)"
      ]
     },
     "execution_count": 14,
     "metadata": {},
     "output_type": "execute_result"
    }
   ],
   "source": [
    "mammal_1.bounds"
   ]
  },
  {
   "cell_type": "code",
   "execution_count": 15,
   "metadata": {
    "collapsed": false
   },
   "outputs": [
    {
     "data": {
      "text/plain": [
       "1"
      ]
     },
     "execution_count": 15,
     "metadata": {},
     "output_type": "execute_result"
    }
   ],
   "source": [
    "mammal_1.count"
   ]
  },
  {
   "cell_type": "code",
   "execution_count": 16,
   "metadata": {
    "collapsed": true
   },
   "outputs": [],
   "source": [
    "mammal_1_arr = np.ma.masked_equal(mammal_1.read(1), mammal_1.nodata)"
   ]
  },
  {
   "cell_type": "code",
   "execution_count": 17,
   "metadata": {
    "collapsed": false
   },
   "outputs": [],
   "source": [
    "mammal_2_arr = np.ma.masked_equal(mammal_2.read(1), mammal_2.nodata)"
   ]
  },
  {
   "cell_type": "code",
   "execution_count": 18,
   "metadata": {
    "collapsed": false
   },
   "outputs": [
    {
     "data": {
      "text/plain": [
       "<matplotlib.image.AxesImage at 0x11ebe8590>"
      ]
     },
     "execution_count": 18,
     "metadata": {},
     "output_type": "execute_result"
    },
    {
     "data": {
      "image/png": "[encoded data removed]",
      "text/plain": [
       "<matplotlib.figure.Figure at 0x110e17bd0>"
      ]
     },
     "metadata": {},
     "output_type": "display_data"
    }
   ],
   "source": [
    "pyplot.imshow((mammal_1_arr+mammal_2_arr > 0), cmap='BrBG')"
   ]
  },
  {
   "cell_type": "code",
   "execution_count": 19,
   "metadata": {
    "collapsed": false
   },
   "outputs": [
    {
     "data": {
      "text/plain": [
       "<matplotlib.image.AxesImage at 0x1200c1c10>"
      ]
     },
     "execution_count": 19,
     "metadata": {},
     "output_type": "execute_result"
    },
    {
     "data": {
      "image/png": "[encoded data removed]",
      "text/plain": [
       "<matplotlib.figure.Figure at 0x11f2bc450>"
      ]
     },
     "metadata": {},
     "output_type": "display_data"
    }
   ],
   "source": [
    "pyplot.imshow(mammal_1_arr*mammal_2_arr, cmap='BrBG')"
   ]
  },
  {
   "cell_type": "code",
   "execution_count": 20,
   "metadata": {
    "collapsed": true
   },
   "outputs": [],
   "source": [
    "import geopandas as gpd"
   ]
  },
  {
   "cell_type": "code",
   "execution_count": 21,
   "metadata": {
    "collapsed": true
   },
   "outputs": [],
   "source": [
    "estados_fp = '../datos/destdv1gw_c/destdv1cw.shp'"
   ]
  },
  {
   "cell_type": "code",
   "execution_count": 22,
   "metadata": {
    "collapsed": true
   },
   "outputs": [],
   "source": [
    "estados_gdf = gpd.GeoDataFrame.from_file(estados_fp)"
   ]
  },
  {
   "cell_type": "code",
   "execution_count": 23,
   "metadata": {
    "collapsed": false
   },
   "outputs": [],
   "source": [
    "estados_gdf = estados_gdf[['ENTIDAD', 'geometry']]"
   ]
  },
  {
   "cell_type": "code",
   "execution_count": 24,
   "metadata": {
    "collapsed": false
   },
   "outputs": [
    {
     "data": {
      "text/html": [
       "<div>\n",
       "<table border=\"1\" class=\"dataframe\">\n",
       "  <thead>\n",
       "    <tr style=\"text-align: right;\">\n",
       "      <th></th>\n",
       "      <th>ENTIDAD</th>\n",
       "      <th>geometry</th>\n",
       "    </tr>\n",
       "  </thead>\n",
       "  <tbody>\n",
       "    <tr>\n",
       "      <th>0</th>\n",
       "      <td>BAJA CALIFORNIA</td>\n",
       "      <td>POLYGON ((1071602.946584179 2349608.235864431,...</td>\n",
       "    </tr>\n",
       "    <tr>\n",
       "      <th>1</th>\n",
       "      <td>BAJA CALIFORNIA</td>\n",
       "      <td>POLYGON ((1054554.023911037 2340187.4126439, 1...</td>\n",
       "    </tr>\n",
       "    <tr>\n",
       "      <th>2</th>\n",
       "      <td>BAJA CALIFORNIA</td>\n",
       "      <td>POLYGON ((1057686.603394306 2337959.410386244,...</td>\n",
       "    </tr>\n",
       "    <tr>\n",
       "      <th>3</th>\n",
       "      <td>BAJA CALIFORNIA</td>\n",
       "      <td>POLYGON ((1059225.740030776 2335282.153000345,...</td>\n",
       "    </tr>\n",
       "    <tr>\n",
       "      <th>4</th>\n",
       "      <td>SONORA</td>\n",
       "      <td>POLYGON ((1291139.924194857 2322890.567642324,...</td>\n",
       "    </tr>\n",
       "  </tbody>\n",
       "</table>\n",
       "</div>"
      ],
      "text/plain": [
       "           ENTIDAD                                           geometry\n",
       "0  BAJA CALIFORNIA  POLYGON ((1071602.946584179 2349608.235864431,...\n",
       "1  BAJA CALIFORNIA  POLYGON ((1054554.023911037 2340187.4126439, 1...\n",
       "2  BAJA CALIFORNIA  POLYGON ((1057686.603394306 2337959.410386244,...\n",
       "3  BAJA CALIFORNIA  POLYGON ((1059225.740030776 2335282.153000345,...\n",
       "4           SONORA  POLYGON ((1291139.924194857 2322890.567642324,..."
      ]
     },
     "execution_count": 24,
     "metadata": {},
     "output_type": "execute_result"
    }
   ],
   "source": [
    "estados_gdf.head()"
   ]
  },
  {
   "cell_type": "code",
   "execution_count": 25,
   "metadata": {
    "collapsed": false
   },
   "outputs": [
    {
     "data": {
      "text/plain": [
       "{u'datum': u'WGS84',\n",
       " u'lat_0': 12,\n",
       " u'lat_1': 17.5,\n",
       " u'lat_2': 29.5,\n",
       " u'lon_0': -102,\n",
       " u'no_defs': True,\n",
       " u'proj': u'lcc',\n",
       " u'units': u'm',\n",
       " u'x_0': 2500000,\n",
       " u'y_0': 0}"
      ]
     },
     "execution_count": 25,
     "metadata": {},
     "output_type": "execute_result"
    }
   ],
   "source": [
    "estados_gdf.crs"
   ]
  },
  {
   "cell_type": "code",
   "execution_count": 26,
   "metadata": {
    "collapsed": false
   },
   "outputs": [],
   "source": [
    "crs = mammal_1.read_crs()"
   ]
  },
  {
   "cell_type": "code",
   "execution_count": 27,
   "metadata": {
    "collapsed": false
   },
   "outputs": [
    {
     "data": {
      "text/plain": [
       "{u'datum': u'WGS84',\n",
       " u'lat_0': 12,\n",
       " u'lat_1': 17.5,\n",
       " u'lat_2': 29.5,\n",
       " u'lon_0': -102,\n",
       " u'no_defs': True,\n",
       " u'proj': u'lcc',\n",
       " u'units': u'm',\n",
       " u'x_0': 2500000,\n",
       " u'y_0': 0}"
      ]
     },
     "execution_count": 27,
     "metadata": {},
     "output_type": "execute_result"
    }
   ],
   "source": [
    "crs.to_dict()"
   ]
  },
  {
   "cell_type": "code",
   "execution_count": 35,
   "metadata": {
    "collapsed": false
   },
   "outputs": [],
   "source": [
    "estado_geom = estados_gdf[estados_gdf.ENTIDAD == 'DURANGO'].unary_union"
   ]
  },
  {
   "cell_type": "code",
   "execution_count": 36,
   "metadata": {
    "collapsed": false
   },
   "outputs": [
    {
     "data": {
      "image/svg+xml": [
       "<svg xmlns=\"http://www.w3.org/2000/svg\" xmlns:xlink=\"http://www.w3.org/1999/xlink\" width=\"300\" height=\"300\" viewBox=\"1958357.64629 1129458.06588 513949.835509 539203.80247\" preserveAspectRatio=\"xMinYMin meet\"><g transform=\"matrix(1,0,0,-1,0,2798119.93424)\"><path fill-rule=\"evenodd\" fill=\"#66cc99\" stroke=\"#555555\" stroke-width=\"3594.69201647\" opacity=\"0.6\" d=\"M 2081359.41245,1626233.22423 L 2081417.03775,1626260.2244 L 2081536.78838,1626318.22478 L 2081598.78809,1627677.23231 L 2081619.788,1628135.23485 L 2081633.53793,1628448.23659 L 2082414.66668,1629609.24337 L 2083009.54491,1629710.2442 L 2082853.04357,1630722.24972 L 2083347.92114,1631056.2518 L 2083794.54887,1630467.24875 L 2083789.2985,1631194.25277 L 2084314.80139,1631206.25308 L 2084422.30213,1630872.25129 L 2084873.05442,1631275.25373 L 2085205.55611,1631573.25553 L 2084786.42833,1632585.26093 L 2085127.055,1633030.26355 L 2085941.80948,1633027.26392 L 2086473.93715,1633579.26722 L 2086965.43979,1633729.26828 L 2087744.81929,1633263.26607 L 2088424.94782,1633731.26898 L 2089356.32791,1633811.26986 L 2090038.45703,1633042.26593 L 2090347.70889,1632693.26414 L 2090493.58385,1634500.27421 L 2089981.95578,1635041.27697 L 2088605.82284,1635797.2805 L 2086221.30955,1636157.28136 L 2086128.68403,1636171.2814 L 2086081.43356,1636625.28389 L 2086007.55781,1637335.28778 L 2085969.80743,1637700.28978 L 2085941.93215,1637964.29123 L 2086451.56001,1637854.29086 L 2086809.81161,1638625.2953 L 2086727.4361,1638758.296 L 2085928.80608,1640058.30281 L 2086220.55716,1641167.30908 L 2086889.93581,1641226.30973 L 2087543.43938,1641284.31037 L 2088210.69328,1640824.30814 L 2091449.5857,1641698.31454 L 2092487.71721,1640060.30596 L 2093319.59711,1639403.30272 L 2093789.47469,1639411.30299 L 2095022.4804,1641706.3163 L 2096586.48763,1644618.33321 L 2097875.61826,1647697.35092 L 2099336.00084,1648691.35715 L 2101719.14004,1646548.34641 L 2101816.39062,1646459.34596 L 2101972.76655,1646319.34526 L 2102255.14324,1646065.34398 L 2103834.52765,1644644.33685 L 2106740.91976,1642480.32622 L 2106664.92091,1639161.30772 L 2107117.17347,1639053.30734 L 2108020.17896,1637988.30184 L 2110160.93997,1639770.31277 L 2110861.69389,1639678.31259 L 2112835.95555,1638149.30501 L 2114235.58744,1639981.31587 L 2114841.84276,1635790.29281 L 2117834.60852,1637581.3042 L 2118715.11403,1636234.2971 L 2119762.12058,1634634.28867 L 2122037.2598,1631155.27031 L 2125945.65823,1627355.25089 L 2124122.02108,1631796.27485 L 2124916.02507,1632703.28028 L 2126390.90821,1632835.28169 L 2126771.28502,1633488.28552 L 2127961.66674,1633247.28472 L 2128695.67072,1633461.28626 L 2128838.54693,1632559.28128 L 2129366.3001,1632051.27868 L 2129782.17793,1630913.27252 L 2129891.55398,1629942.26714 L 2130455.30674,1630757.27195 L 2131105.18578,1629821.26702 L 2133141.32343,1626890.25155 L 2134237.70443,1627116.25331 L 2134991.83407,1626129.24813 L 2135472.2124,1624674.24021 L 2135957.09013,1624602.24002 L 2135818.83962,1624025.23673 L 2135466.33831,1622554.22834 L 2139314.11018,1621537.22436 L 2139115.85849,1622853.23164 L 2142850.75463,1622123.22921 L 2142101.24891,1625581.24825 L 2141190.61695,1629775.27135 L 2143036.12915,1625529.24838 L 2146336.4009,1617934.20726 L 2147800.66053,1614561.18898 L 2152989.18975,1613952.1878 L 2152993.44052,1612227.17812 L 2153672.19476,1611168.17246 L 2154266.07312,1611072.17218 L 2154514.44974,1610506.1691 L 2155327.32948,1610038.16682 L 2155730.83156,1610463.16938 L 2155646.08078,1611186.17341 L 2155266.20361,1611297.17387 L 2155299.9535,1612005.17786 L 2155302.95349,1612063.17819 L 2156223.20847,1612437.18068 L 2157270.33946,1612131.17941 L 2158898.09853,1612189.18043 L 2159530.47727,1611708.17799 L 2161827.1153,1611286.1766 L 2162157.49228,1610969.17496 L 2163504.87459,1611530.17868 L 2163919.75189,1611587.17918 L 2164411.87936,1612247.18311 L 2165206.38383,1612214.18326 L 2165636.26102,1612712.18625 L 2166196.88927,1612458.18505 L 2167643.89829,1610294.17348 L 2167579.89824,1609567.16936 L 2168105.27626,1609385.16855 L 2166980.14545,1608218.16151 L 2166652.76898,1607343.15644 L 2166819.3951,1606883.15392 L 2167724.15037,1606395.15155 L 2168177.5278,1606664.15325 L 2168499.52968,1606500.15246 L 2168770.03153,1605683.14797 L 2170129.03956,1604678.14288 L 2170614.16728,1604685.14312 L 2170693.79273,1604686.14316 L 2170956.1688,1605641.14865 L 2171494.4219,1605455.14782 L 2172218.80082,1605781.14996 L 2172141.05029,1606022.15129 L 2172104.92504,1606132.15189 L 2172269.05086,1606382.15337 L 2172543.92722,1606801.15585 L 2173192.30593,1606625.15513 L 2173422.80688,1607457.15991 L 2174643.5638,1607292.15949 L 2175320.94286,1606662.15622 L 2175255.06811,1605167.14776 L 2176006.44758,1604550.14459 L 2180525.34725,1606263.15613 L 2180802.09876,1606368.15684 L 2181523.4777,1606642.15868 L 2191537.53248,1610439.18433 L 2192148.53582,1610670.18589 L 2194218.54978,1605119.1553 L 2196195.43807,1599815.12605 L 2196370.31424,1599345.12346 L 2196786.19114,1600465.12997 L 2198313.3245,1601094.13415 L 2198886.95279,1600947.13355 L 2200499.7113,1602407.14248 L 2200835.33828,1602186.14137 L 2201535.46714,1602427.14302 L 2201611.96754,1602499.14346 L 2202392.72165,1603227.14791 L 2202972.34991,1603258.14832 L 2203523.47821,1602794.14591 L 2204067.60627,1602824.1463 L 2204847.61066,1602867.14686 L 2205386.23892,1602346.14412 L 2205440.2392,1602392.1444 L 2206115.36778,1602970.14795 L 2206098.74262,1603153.14899 L 2205977.49151,1604182.15478 L 2205609.48953,1603940.15326 L 2205119.98659,1604384.15558 L 2205867.24051,1605117.16005 L 2205973.99113,1605078.15987 L 2207611.50062,1604488.15719 L 2208180.37843,1605508.16321 L 2208260.62882,1605653.16407 L 2208911.13203,1606819.17096 L 2209961.76284,1607141.17322 L 2210039.01309,1607590.17581 L 2211615.14636,1609169.18544 L 2213509.4073,1608623.18311 L 2214190.78609,1608792.18435 L 2214377.78732,1608371.18203 L 2214967.54072,1608240.18152 L 2216048.67178,1608392.18283 L 2216213.54784,1608075.18109 L 2216933.17679,1608372.18308 L 2217179.05315,1608473.18376 L 2217395.42939,1608422.18355 L 2219835.69345,1607850.18129 L 2221283.5763,1608743.18697 L 2221681.20376,1608234.18423 L 2221932.70511,1608430.18545 L 2223043.46153,1608126.18417 L 2224421.71993,1606692.17655 L 2225900.72857,1606064.17357 L 2226432.73148,1606343.17537 L 2227202.61069,1606748.178 L 2227978.24053,1605664.17212 L 2228185.61682,1605374.17055 L 2228265.36732,1605262.16994 L 2229052.2468,1605243.17015 L 2230026.62786,1603920.16299 L 2230706.75681,1603701.16201 L 2230940.25858,1602586.15574 L 2233178.64728,1600101.14243 L 2234052.27741,1599677.14035 L 2234388.77969,1598741.13513 L 2234813.4072,1598503.13394 L 2234861.53248,1598476.13381 L 2234676.15658,1598093.13154 L 2234624.90633,1597984.1309 L 2234781.78226,1597900.13048 L 2234991.15849,1597788.12992 L 2235461.91126,1597537.12867 L 2235764.53828,1596769.1244 L 2235901.1642,1596410.1224 L 2236283.66676,1595406.11681 L 2237154.1717,1595452.11741 L 2238071.42735,1594328.11134 L 2238913.55734,1593813.10872 L 2238974.3077,1593775.10853 L 2239012.68306,1593389.10634 L 2239032.55825,1593189.1052 L 2239612.68667,1592894.10374 L 2240385.56592,1593281.10625 L 2242100.57535,1594138.11181 L 2243072.9567,1592008.09999 L 2243205.70757,1591716.09837 L 2243466.95927,1591144.0952 L 2244157.21378,1589630.0868 L 2245084.96867,1590648.09298 L 2251564.25287,1597774.1363 L 2252113.8804,1599339.14549 L 2251441.75007,1603177.16725 L 2252680.88153,1604714.17656 L 2253791.51196,1607026.19027 L 2255258.39412,1610079.20838 L 2256292.52402,1612574.22313 L 2256813.02602,1614978.23715 L 2257377.65375,1616210.24446 L 2258456.28395,1618561.25842 L 2263224.31003,1621474.27714 L 2264364.94114,1622482.28341 L 2268421.83876,1623977.29371 L 2268931.84161,1624164.295 L 2271448.47903,1628968.32375 L 2271359.47822,1629686.32785 L 2273386.61401,1631690.34026 L 2272124.85551,1634640.35675 L 2271242.47523,1635152.35932 L 2270964.59857,1635313.36013 L 2270405.09522,1635638.36177 L 2270495.34571,1635709.36221 L 2271968.10367,1636836.36935 L 2271503.7252,1638706.37994 L 2271680.97601,1639200.38286 L 2270734.72031,1639812.38598 L 2270910.72114,1640226.38845 L 2272820.10668,1641187.39482 L 2273146.9833,1641782.3984 L 2272689.60562,1641915.39897 L 2272764.48103,1641967.3993 L 2273747.86138,1642642.40363 L 2274103.61288,1643870.41087 L 2274914.61724,1644555.41518 L 2276052.12435,1643236.40806 L 2277027.13099,1640845.39468 L 2277994.88715,1639470.38715 L 2279321.52058,1637585.37683 L 2279118.64463,1637081.37383 L 2280245.77615,1636983.37375 L 2283991.79784,1636656.37346 L 2296973.624,1633387.36003 L 2297336.00113,1633296.35966 L 2298621.13209,1636739.38017 L 2302404.77881,1637035.38348 L 2304899.04436,1634323.36879 L 2306573.05402,1634334.36955 L 2315015.72783,1634393.37342 L 2316261.98516,1634130.37241 L 2331598.82543,1630881.35978 L 2334632.46835,1630149.35674 L 2335060.84589,1630045.35631 L 2336916.85799,1626772.33794 L 2339374.99793,1625154.32946 L 2340081.00182,1625707.33298 L 2343802.27417,1623945.32416 L 2357777.48319,1617327.29085 L 2363900.14504,1614429.27619 L 2364386.52514,1608429.24115 L 2365125.53282,1599293.18779 L 2366727.04257,1598180.18184 L 2367504.54758,1596866.1744 L 2368286.42775,1595194.16486 L 2370258.44076,1590981.14082 L 2373572.96259,1583895.10035 L 2374594.59431,1581713.08787 L 2373336.46321,1578013.06571 L 2368510.18782,1569607.01475 L 2367511.05932,1562425.9723 L 2363589.29149,1546275.87643 L 2363343.54121,1542449.85395 L 2365237.92837,1538646.83224 L 2366533.68622,1537626.82664 L 2367472.56692,1536849.82236 L 2367459.31699,1536318.81925 L 2365985.30841,1536288.81864 L 2366064.18402,1535768.81562 L 2365498.4309,1535182.81202 L 2367054.19091,1531873.79309 L 2367975.57149,1531142.78907 L 2368419.44969,1528983.77655 L 2367458.94513,1525267.75451 L 2366580.44016,1524751.75124 L 2366346.93895,1524224.74809 L 2367245.44447,1523180.74222 L 2366361.56511,1520316.72521 L 2364881.30676,1519300.71886 L 2366312.94044,1518047.71191 L 2364826.18193,1517498.70829 L 2365309.18494,1516746.70402 L 2365348.31019,1516686.70368 L 2364247.3039,1516252.70084 L 2363875.0521,1514855.69257 L 2362052.66708,1512670.6793 L 2361805.66612,1510856.66862 L 2359656.27847,1511430.67141 L 2359234.15118,1510834.66782 L 2359727.27923,1510108.6637 L 2359725.52937,1509538.66037 L 2359159.15118,1509173.65809 L 2357621.14229,1508962.65645 L 2357775.01831,1508489.65373 L 2358498.39756,1508294.65278 L 2358622.39829,1508261.65262 L 2358775.39927,1507927.6507 L 2358665.52363,1507918.65062 L 2358466.27248,1507901.65047 L 2357426.64146,1507810.64967 L 2357141.01513,1506546.64221 L 2357088.26488,1506309.64081 L 2356849.88851,1506271.64053 L 2356642.13731,1506238.64028 L 2356182.13466,1506165.63973 L 2356132.50937,1506157.63968 L 2356155.50952,1506100.63935 L 2356366.13588,1505572.63632 L 2356606.51243,1504970.63286 L 2356682.38792,1504781.63178 L 2354861.00252,1504061.62711 L 2354783.50247,1502499.61796 L 2354248.87461,1501550.61229 L 2353853.37239,1501231.61032 L 2353424.86999,1500887.60821 L 2353016.24271,1500556.60617 L 2352283.86352,1500279.60437 L 2351879.36122,1500125.60337 L 2351827.36092,1500106.60324 L 2350739.35471,1499693.60056 L 2350447.47804,1499582.59984 L 2351511.85943,1498750.59525 L 2351534.98458,1498701.59497 L 2352161.23855,1497338.58717 L 2352470.61534,1497356.58736 L 2363349.30612,1486682.52765 L 2362930.55375,1486421.52602 L 2363427.30691,1485241.51924 L 2364060.18543,1485935.52345 L 2365883.69647,1484067.51295 L 2366165.57311,1484069.51303 L 2366018.57292,1481160.49598 L 2365099.31754,1481318.49669 L 2364645.31488,1481396.49704 L 2363214.30606,1483576.50946 L 2363178.18084,1483630.50976 L 2362804.05366,1483655.50982 L 2362572.17739,1483297.50768 L 2362166.17502,1483339.50783 L 2361916.54857,1483364.50792 L 2360799.41691,1484061.51173 L 2360107.91295,1483814.51012 L 2359151.15729,1484253.51247 L 2357816.39965,1483772.50934 L 2357321.5219,1483257.50622 L 2357078.39551,1483160.5056 L 2356765.39372,1483034.50479 L 2356251.39078,1482827.50346 L 2355720.63775,1482614.50209 L 2355598.63705,1482565.50178 L 2355152.88451,1482386.50063 L 2354848.38277,1482264.49985 L 2353588.62557,1481758.4966 L 2353677.12623,1481145.49305 L 2353088.99829,1479085.48089 L 2353079.49824,1479050.48069 L 2352869.49709,1478771.47901 L 2352389.11945,1478131.47517 L 2351681.61556,1477188.46951 L 2350890.23601,1477016.46832 L 2351847.24177,1476058.46295 L 2351257.98855,1475173.45766 L 2351153.11298,1475014.45671 L 2351141.61292,1475009.45668 L 2350583.98474,1474757.45508 L 2350142.35722,1474556.45381 L 2350108.10709,1474283.45221 L 2349931.98138,1472862.44389 L 2349926.10636,1472809.44358 L 2349717.23016,1472729.44307 L 2349374.1032,1472599.44223 L 2348860.60027,1472403.44098 L 2348738.47457,1472356.44068 L 2348763.09973,1472296.44033 L 2349060.60161,1471571.43617 L 2348898.8507,1471464.43551 L 2348491.4734,1471191.43383 L 2348727.22479,1471067.43316 L 2349139.47723,1470852.432 L 2349291.97817,1470597.43055 L 2349441.60409,1470348.42913 L 2349830.10649,1469698.42542 L 2349872.98175,1469627.42502 L 2349913.482,1469559.42463 L 2350066.35809,1468595.41905 L 2350081.4832,1468500.4185 L 2352381.12168,1467820.41503 L 2353047.00081,1466598.40805 L 2353616.6292,1466196.40582 L 2353709.25475,1466130.40546 L 2354685.26056,1465441.40165 L 2354652.26058,1464444.39582 L 2355743.2673,1462549.385 L 2356453.14649,1462225.38326 L 2357079.15007,1462478.38486 L 2357760.02914,1461926.38178 L 2357794.15444,1461428.37888 L 2358693.53488,1460368.37288 L 2359360.03876,1460296.3726 L 2359805.0415,1459551.36834 L 2360184.9191,1457612.3571 L 2362532.05825,1455020.34243 L 2362361.18244,1454122.33715 L 2363124.562,1453491.33362 L 2363736.69082,1452153.32592 L 2364272.44397,1451976.325 L 2365352.32517,1452336.32731 L 2365749.32768,1451312.32141 L 2367744.21445,1450414.31654 L 2368535.09424,1449397.31075 L 2369103.09754,1449448.31116 L 2370153.60375,1448924.3083 L 2370171.47886,1448869.30798 L 2370269.22948,1448580.30631 L 2370463.10572,1448004.30297 L 2370523.60611,1447826.30195 L 2371486.9868,1447391.29958 L 2371819.61376,1447240.29876 L 2373366.74789,1446542.29497 L 2373368.74796,1446248.29325 L 2373368.99799,1446106.29242 L 2373250.4973,1446124.2925 L 2373113.49649,1446145.2926 L 2372924.62039,1446173.29273 L 2372602.49351,1446221.29295 L 2372651.24391,1445578.2892 L 2372494.11802,1445481.2886 L 2372063.49056,1445216.28697 L 2372316.49208,1444976.28561 L 2372654.4941,1444655.2838 L 2371821.48938,1444017.27991 L 2371701.9887,1443926.27935 L 2372712.24469,1443297.27586 L 2372585.36898,1443161.27504 L 2372081.11614,1442623.2718 L 2372646.99462,1441640.26615 L 2372732.37014,1441492.2653 L 2373331.6237,1441073.26296 L 2373521.24983,1440939.26221 L 2374427.50522,1440304.25866 L 2375323.26055,1439676.25515 L 2374845.38338,1436261.23507 L 2376940.27071,1435463.23077 L 2381952.30024,1433554.22046 L 2383470.30953,1430997.20574 L 2383474.43456,1430938.20539 L 2383720.1867,1426710.18065 L 2386003.20003,1426574.18023 L 2385956.32535,1422968.15908 L 2387747.46092,1422153.15458 L 2387794.08634,1421251.1493 L 2388580.46599,1420832.14697 L 2388630.21629,1420818.14689 L 2389717.72262,1420851.14726 L 2389924.59887,1420606.14586 L 2390076.72479,1420427.14483 L 2391948.61076,1420085.14312 L 2392387.73834,1420005.14272 L 2392474.36385,1419990.14264 L 2394084.7484,1419011.13715 L 2396058.38491,1419107.13802 L 2396221.38589,1418938.13705 L 2396865.88976,1418270.13323 L 2397062.39094,1418067.13206 L 2397148.26644,1418055.13201 L 2397565.39389,1418000.13175 L 2397965.64624,1417947.1315 L 2398172.27247,1417762.13044 L 2398619.15015,1417361.12815 L 2398809.77629,1417189.12717 L 2398959.77716,1417223.1274 L 2399157.2783,1417267.12768 L 2399235.65376,1417284.1278 L 2399318.40418,1417691.1302 L 2400361.53534,1417283.12796 L 2400725.28742,1417613.12996 L 2401021.91415,1417654.13025 L 2402032.79503,1417793.13122 L 2402079.17035,1417505.12953 L 2402133.67072,1417173.12759 L 2402148.42082,1417079.12704 L 2402291.29665,1417104.12721 L 2402552.54817,1417150.12752 L 2402897.55018,1417210.12792 L 2402975.30067,1417016.12679 L 2403196.55204,1416472.12363 L 2403219.17718,1416415.1233 L 2403342.30291,1416348.12292 L 2403608.42949,1416200.12209 L 2404191.18295,1415878.12028 L 2404858.81191,1415510.11822 L 2405804.81744,1415557.11864 L 2406154.94449,1415575.1188 L 2406630.19726,1415599.11901 L 2407090.94996,1415622.11922 L 2407163.95043,1415285.11724 L 2407209.45073,1415076.11602 L 2407255.70103,1414862.11477 L 2407472.82729,1414980.11549 L 2407871.82959,1415195.11682 L 2408696.58456,1414281.11156 L 2409096.83691,1414207.11119 L 2409491.71423,1414134.11081 L 2409895.84161,1414059.11043 L 2409969.34204,1414045.11036 L 2410411.9697,1413612.10788 L 2410655.34616,1413373.10651 L 2410818.59714,1413214.10559 L 2416279.75424,1412511.10225 L 2416408.37928,1417347.13079 L 2416424.75429,1417934.13425 L 2414490.61787,1418413.13678 L 2417934.76261,1421389.15486 L 2418851.76773,1423041.16475 L 2420615.90249,1426744.18688 L 2423225.66664,1433914.22965 L 2424065.79618,1436224.24344 L 2421300.02976,1437276.24917 L 2420489.27494,1437583.25085 L 2422836.53758,1444124.28989 L 2429193.07516,1442862.28356 L 2430230.08095,1444549.29373 L 2432494.09361,1448234.31594 L 2433270.34842,1446870.30801 L 2435393.86146,1443899.2908 L 2435876.61442,1443223.28688 L 2435170.11014,1443866.29057 L 2432639.09484,1446168.30374 L 2432603.47003,1443943.29056 L 2432519.34547,1438595.25891 L 2434263.60564,1439102.26221 L 2434320.73128,1437360.25191 L 2434115.73014,1436935.24936 L 2433350.97567,1436796.2484 L 2432612.97154,1435502.24062 L 2434191.10595,1434809.23679 L 2443040.6587,1430921.21523 L 2443148.41001,1426751.19053 L 2446752.18213,1421094.15755 L 2447707.4393,1410516.09496 L 2445244.54977,1410591.09506 L 2444249.91917,1408723.08385 L 2444715.79701,1408031.07982 L 2444647.92173,1407160.07464 L 2442127.78249,1402669.0477 L 2450904.71024,1394724.00173 L 2451328.83851,1388252.9634 L 2451428.96428,1386718.95431 L 2450425.58408,1380272.91597 L 2449912.08111,1379751.91282 L 2449894.70612,1378709.90664 L 2451449.71531,1378437.90519 L 2452323.72045,1378607.9063 L 2452336.9706,1377954.90242 L 2451637.9666,1376729.89508 L 2450748.08639,1376437.89326 L 2446540.56161,1376249.89171 L 2445964.55825,1375948.88986 L 2445018.67763,1376387.89237 L 2442540.91303,1376489.89271 L 2441595.15754,1375742.88819 L 2440892.90341,1375677.88773 L 2439013.64246,1374638.88139 L 2438566.51488,1374135.87837 L 2437950.13633,1373438.87418 L 2434923.86861,1372726.86966 L 2432685.73057,1371498.86217 L 2432419.97902,1371464.86195 L 2429920.83937,1371145.85981 L 2429620.33761,1371107.85956 L 2429405.46135,1371079.85937 L 2427449.82483,1371390.86101 L 2427385.94946,1371400.86106 L 2427238.6986,1371343.86071 L 2426677.07032,1371125.85937 L 2426686.82037,1371220.85993 L 2426761.82074,1371912.86402 L 2425700.31458,1371182.85961 L 2423752.92816,1371122.85905 L 2423028.54884,1371882.86347 L 2422145.91857,1372809.86884 L 2421375.78901,1373176.87093 L 2421335.91376,1373363.87203 L 2421209.91296,1373965.87557 L 2420453.65847,1374468.87845 L 2417180.88952,1372204.86477 L 2416146.50847,1372145.86431 L 2415414.37922,1371743.86187 L 2414061.37122,1372467.866 L 2413132.86565,1373746.87343 L 2414193.6218,1374395.87737 L 2415140.25199,1377651.89665 L 2413651.24335,1376903.89208 L 2412986.86456,1375956.88643 L 2412462.23642,1376648.89045 L 2412314.61062,1376038.88684 L 2410108.34722,1380437.9125 L 2410070.34699,1380514.91295 L 2409879.22092,1380091.91044 L 2410110.72235,1379444.90666 L 2410131.84748,1379386.90632 L 2409958.34647,1379331.90597 L 2409741.72021,1379261.90554 L 2409696.97005,1378370.90029 L 2409477.71879,1378135.89888 L 2409119.71674,1377748.89657 L 2409025.9662,1377647.89596 L 2409088.4666,1377302.89394 L 2409165.8421,1376881.89147 L 2409113.59179,1376906.89161 L 2402407.55222,1380162.91002 L 2400805.66815,1377488.89413 L 2400522.91648,1377666.89514 L 2395210.88509,1381018.91423 L 2394857.758,1381242.91551 L 2391578.36441,1376394.88669 L 2390360.10715,1377827.89496 L 2389219.47589,1374200.87357 L 2388435.47136,1373851.87144 L 2387253.21439,1374561.87547 L 2386064.58246,1374638.8758 L 2385938.58168,1375064.87828 L 2385811.08089,1375490.88076 L 2385736.08043,1375744.88224 L 2385331.32792,1377106.89018 L 2383416.44177,1377100.88993 L 2382342.43542,1377919.89461 L 2381141.17848,1377448.89172 L 2380206.04814,1376525.88621 L 2378836.54016,1376672.88692 L 2376580.2771,1376082.88322 L 2376302.52549,1376009.88276 L 2376019.77388,1375699.88091 L 2373382.13317,1379060.90027 L 2372387.75252,1377915.89347 L 2371670.37338,1377636.89175 L 2371423.24696,1377549.89122 L 2370592.49216,1377255.88941 L 2370097.11427,1377366.89 L 2369954.23844,1377399.89018 L 2369495.73576,1377502.89073 L 2368576.3554,1377710.89184 L 2367858.97622,1377872.8927 L 2366427.093,1377066.88784 L 2365812.33941,1377254.88886 L 2362921.32266,1376984.88696 L 2356665.03646,1376401.88286 L 2356564.53589,1376269.88208 L 2356257.28416,1375869.87971 L 2356190.90878,1375783.8792 L 2355997.53269,1375531.87771 L 2355830.65675,1375313.87643 L 2355757.40633,1375217.87586 L 2355867.53206,1374450.8714 L 2356044.53322,1373215.86423 L 2356104.28361,1372795.86179 L 2356178.53409,1372280.85879 L 2356225.2844,1371952.85689 L 2355776.40686,1371340.85327 L 2355427.53001,1369711.84375 L 2355383.40477,1369613.84317 L 2355216.40384,1369234.84095 L 2354930.40225,1368589.83716 L 2354648.27568,1367950.83341 L 2354587.65035,1367814.83261 L 2354567.90024,1367770.83235 L 2353903.39642,1367474.83056 L 2353826.521,1367264.82933 L 2353663.3951,1366820.82673 L 2352364.13771,1365468.81872 L 2352324.88748,1365472.81874 L 2351482.5076,1365577.81927 L 2351437.88234,1365583.8193 L 2351359.13189,1365562.81917 L 2351008.50487,1365466.81857 L 2350692.50305,1365381.81805 L 2350244.50047,1365259.81729 L 2349923.2487,1364363.81205 L 2350035.49944,1363372.80629 L 2349134.49426,1363119.80473 L 2348148.61358,1362842.80302 L 2348057.98808,1362646.80187 L 2347888.48713,1362278.79972 L 2347862.48699,1362223.79939 L 2347821.36176,1362133.79887 L 2347762.23643,1362004.79811 L 2347545.98518,1362019.79818 L 2346109.97686,1362114.79859 L 2344858.09457,1362697.80186 L 2344450.34222,1362603.80127 L 2343470.21158,1362377.79986 L 2343324.96075,1362344.79966 L 2342706.33219,1362202.79877 L 2341671.20123,1361963.79728 L 2341634.07602,1361879.79679 L 2341538.45049,1361658.7955 L 2341429.32489,1361406.79402 L 2341565.3258,1360099.78644 L 2341850.32754,1359105.78069 L 2341887.45276,1358977.77995 L 2341949.82814,1358757.77868 L 2341983.95335,1358638.77799 L 2342096.57904,1358286.77596 L 2342395.58082,1357646.77227 L 2342658.33239,1357082.76902 L 2342763.08302,1356857.76772 L 2342171.32971,1355605.76039 L 2342137.32953,1355376.75906 L 2341857.95309,1353513.74821 L 2341878.95321,1353463.74792 L 2342376.33119,1352263.74099 L 2342371.33117,1352165.74042 L 2342343.83106,1351547.73683 L 2341602.07685,1350627.73142 L 2340957.44816,1350272.72931 L 2340346.81966,1349938.72732 L 2337700.42963,1346979.70992 L 2336048.04538,1343337.68865 L 2334572.41193,1342545.68395 L 2333699.03178,1344092.69285 L 2332156.14767,1346824.70857 L 2329872.50961,1345585.70121 L 2329083.00509,1345156.69866 L 2323402.22273,1340641.67208 L 2323320.47227,1340577.6717 L 2321011.08412,1338713.66075 L 2319478.45039,1337475.65348 L 2318816.44662,1336940.65033 L 2318003.19199,1336284.64649 L 2317928.31657,1336224.64613 L 2317607.43975,1335870.64406 L 2316917.06083,1335110.63962 L 2316561.93393,1333035.62761 L 2315829.05471,1333203.62853 L 2312896.28782,1333875.63222 L 2312968.78841,1331175.61663 L 2310566.27459,1331741.61974 L 2311716.03125,1330731.61398 L 2311716.78125,1330732.61399 L 2312781.91243,1329797.60866 L 2313896.294,1326906.59203 L 2313982.1695,1326683.59075 L 2314377.04673,1327300.59433 L 2315942.68076,1326756.59128 L 2315863.68033,1326374.58907 L 2314633.92358,1320492.55502 L 2314327.17185,1320014.55224 L 2312300.41036,1316850.53387 L 2312775.41316,1315384.52543 L 2313233.1658,1314972.52307 L 2314332.79716,1313984.51741 L 2314454.67297,1311296.50189 L 2315938.80657,1309304.49044 L 2315580.05457,1307790.48168 L 2314070.92093,1306925.47663 L 2311759.65776,1304097.46022 L 2311807.78313,1300998.44233 L 2313268.91661,1297710.42339 L 2312554.91257,1295331.40963 L 2318897.699,1294972.4077 L 2317947.31863,1290160.37987 L 2316476.93521,1288440.3699 L 2316446.31004,1287912.36685 L 2315357.92878,1288382.36955 L 2312323.16132,1290986.38454 L 2309453.01987,1289815.37773 L 2309854.02219,1288853.37219 L 2309395.26956,1288656.37104 L 2309273.76887,1288013.36733 L 2308905.14178,1285825.3547 L 2306847.12996,1287402.36377 L 2306605.00358,1287077.36189 L 2306437.00262,1286850.36058 L 2306780.8796,1286503.35858 L 2306616.87866,1286278.35729 L 2307655.38462,1285505.35284 L 2308084.13708,1285185.351 L 2308255.76307,1285038.35015 L 2308245.88802,1284464.34684 L 2305863.12436,1284064.34451 L 2305865.62436,1285356.35196 L 2304965.6192,1285477.35265 L 2305086.2449,1284771.34858 L 2305105.62001,1284654.3479 L 2305234.87076,1283892.34351 L 2305389.37165,1282985.33828 L 2305383.99663,1282879.33767 L 2304438.86622,1281895.33199 L 2304067.11409,1281680.33075 L 2303717.23708,1281478.32958 L 2303247.9844,1281208.32802 L 2302867.60722,1280988.32675 L 2302684.85617,1280882.32614 L 2302009.10231,1280073.32148 L 2301927.22684,1279974.3209 L 2301237.59789,1279923.32061 L 2300600.96925,1278988.31522 L 2299320.33692,1278388.31176 L 2298970.08491,1278223.3108 L 2298388.08158,1277950.30923 L 2297207.07483,1277396.30604 L 2296180.56896,1276598.30144 L 2294076.30692,1274958.292 L 2290140.03441,1271892.27438 L 2287917.52165,1264083.22952 L 2287616.64491,1263025.22345 L 2286554.88884,1262361.21965 L 2285744.25917,1259883.20543 L 2285271.75647,1259629.20398 L 2284963.62966,1257148.18974 L 2285342.25681,1256558.18634 L 2285272.13139,1255756.18174 L 2283750.62251,1248460.13989 L 2283159.11886,1241045.09734 L 2280848.10555,1237981.07985 L 2278867.09414,1235355.06488 L 2278311.71505,1219074.97153 L 2279391.97116,1218256.96677 L 2279374.72105,1218198.96644 L 2278888.84317,1216533.95692 L 2279213.96994,1215379.95028 L 2279060.59402,1214662.94618 L 2280197.97547,1214204.94347 L 2280057.09961,1213322.93842 L 2280587.60256,1212361.93287 L 2281498.23275,1212343.9327 L 2282068.61098,1211911.93017 L 2281923.6101,1211213.92618 L 2282358.11252,1210433.92167 L 2283299.86788,1210300.92084 L 2284016.74701,1210760.92342 L 2284257.87336,1210531.92209 L 2284356.12392,1210438.92155 L 2284304.74862,1210336.92097 L 2283950.24654,1209629.91693 L 2284628.25032,1208503.91042 L 2284904.12686,1208044.90776 L 2284817.75135,1207784.90627 L 2284697.87564,1207418.90418 L 2284848.2514,1206202.89718 L 2284969.25201,1205214.8915 L 2284938.00182,1205152.89114 L 2284828.12618,1204940.88994 L 2284796.12599,1204878.88958 L 2284539.62453,1204919.88984 L 2284008.87151,1205004.89037 L 2283920.12095,1204428.88707 L 2284962.12676,1202768.87745 L 2285087.75246,1202568.87629 L 2285066.00233,1202520.87602 L 2284503.49902,1201300.86906 L 2284570.49939,1201140.86813 L 2284863.251,1200437.86407 L 2284550.12418,1200129.86233 L 2284380.2482,1199962.86138 L 2284713.12508,1199762.8602 L 2284233.12232,1199497.85872 L 2285634.00531,1199487.85854 L 2286032.13259,1199484.85849 L 2286064.88273,1199006.85574 L 2286070.00776,1198930.85531 L 2285608.75508,1198460.85265 L 2285520.12957,1198368.85213 L 2285629.25516,1198101.85058 L 2285691.63051,1197946.84969 L 2285825.63124,1197619.8478 L 2286206.88342,1197684.84814 L 2286424.88464,1197356.84623 L 2286120.50784,1196685.8424 L 2286159.88306,1196603.84193 L 2286301.25884,1196304.8402 L 2286983.88772,1196137.83918 L 2287010.51287,1196094.83893 L 2287470.01543,1195373.83474 L 2287489.89054,1195342.83456 L 2287450.0153,1195279.8342 L 2287261.7642,1194980.8325 L 2286594.63537,1194722.83108 L 2286452.75955,1194667.83078 L 2285894.63134,1194451.82959 L 2284857.87551,1195348.83484 L 2283440.11735,1194666.83105 L 2281313.98029,1195406.8355 L 2279518.46996,1194495.83043 L 2277073.20601,1194337.82976 L 2275307.07113,1196382.84165 L 2274331.81561,1196773.84398 L 2274060.93905,1196538.84265 L 2272988.80796,1196709.84373 L 2272491.0551,1196477.84245 L 2272773.9316,1195315.83576 L 2272025.92721,1193886.82765 L 2270101.4162,1193344.82472 L 2269279.66143,1192350.81911 L 2268426.65655,1192141.81799 L 2268111.77959,1190419.80817 L 2268190.155,1190052.80606 L 2268764.78327,1190054.80601 L 2267232.89938,1188348.7964 L 2267065.02333,1187407.79103 L 2267547.77597,1186420.78533 L 2267452.52539,1185970.78276 L 2266821.39666,1184738.77578 L 2266072.64234,1184104.77223 L 2266836.52155,1182843.76493 L 2265990.0167,1182545.76331 L 2265773.8904,1181859.75941 L 2266864.77163,1182119.76078 L 2267902.65242,1181053.75457 L 2267550.5253,1180048.74885 L 2266535.01945,1179389.74519 L 2267276.6486,1178769.74156 L 2268471.53003,1175570.72311 L 2267661.90045,1175800.72452 L 2266898.14603,1175184.72108 L 2266986.64646,1174561.7175 L 2265789.88944,1172795.70753 L 2265800.76442,1172103.70357 L 2265803.88942,1171960.70275 L 2264110.75485,1172458.70581 L 2262236.99388,1169845.69108 L 2262623.8709,1168369.68259 L 2263029.87315,1167933.68005 L 2262245.49347,1166176.6701 L 2263682.50097,1161075.64073 L 2262155.992,1158915.62858 L 2262020.8662,1158724.6275 L 2256770.46078,1154513.60415 L 2247365.90733,1153801.60142 L 2244566.76632,1152770.59594 L 2244353.5151,1152691.59552 L 2244414.89039,1152310.59334 L 2244551.89117,1152320.59338 L 2244863.51794,1152345.59348 L 2245083.39413,1151998.59147 L 2245040.89388,1151936.59112 L 2244418.01522,1151049.58615 L 2244451.89041,1151022.58599 L 2245276.39499,1150371.58216 L 2245694.52231,1150040.58021 L 2244452.51527,1150025.58031 L 2243246.63335,1149428.57709 L 2242111.87716,1151022.58634 L 2240274.49186,1151733.59065 L 2239013.73494,1153203.59921 L 2238879.35933,1154262.60526 L 2238062.97967,1153937.60352 L 2237878.72875,1154784.60837 L 2236448.47068,1154923.60936 L 2235752.21681,1155414.61226 L 2235691.34149,1155547.61302 L 2235067.33815,1156916.6209 L 2234463.95979,1157261.62294 L 2234431.95964,1157481.6242 L 2234215.83362,1158928.63246 L 2234125.58321,1159680.63675 L 2233416.20435,1160724.64278 L 2233551.70527,1161858.64921 L 2233575.58043,1162058.65035 L 2233606.20564,1162325.65186 L 2233554.70535,1162327.65188 L 2228140.29981,1162612.65422 L 2228404.42717,1169330.69234 L 2227184.54578,1173268.71486 L 2227144.67057,1173396.71559 L 2227011.41987,1173827.71805 L 2225733.16259,1173269.71504 L 2222876.64642,1172730.71233 L 2221791.64043,1173816.71862 L 2221757.51534,1174649.72335 L 2221024.88608,1173559.71725 L 2219961.38006,1173307.71595 L 2217524.8665,1174726.72429 L 2217364.36571,1175599.72926 L 2216077.73355,1176352.73367 L 2216411.23551,1177045.73756 L 2215755.23197,1178318.74485 L 2216349.61069,1181569.76319 L 2215869.48312,1182766.77003 L 2214996.72826,1183264.77294 L 2213368.46912,1183423.77402 L 2213412.84428,1182618.76946 L 2212351.71322,1181821.76507 L 2212010.33637,1182477.76882 L 2210734.0792,1182529.76925 L 2209644.44815,1183214.77325 L 2209294.82128,1184036.77794 L 2207802.43788,1183960.77767 L 2207335.30971,1179164.7506 L 2204587.79393,1176195.73414 L 2196960.6251,1167957.68857 L 2195361.2423,1177330.74164 L 2190487.21543,1181016.76298 L 2190451.21523,1181043.76314 L 2184504.18246,1185547.78915 L 2187718.07572,1188098.80317 L 2197580.6313,1191415.82084 L 2201167.40154,1192621.82729 L 2203158.28778,1193291.83088 L 2204464.54516,1193730.83323 L 2202263.40789,1194605.83839 L 2199855.26947,1195562.84402 L 2200978.27629,1201118.87528 L 2200889.27597,1203207.88708 L 2200351.39796,1203234.88727 L 2200280.52256,1203238.8873 L 2200245.52236,1203160.88687 L 2199870.64518,1202321.88216 L 2199786.51969,1202132.8811 L 2198738.76387,1202750.88468 L 2198301.13638,1202313.88226 L 2198010.75973,1202021.88063 L 2197877.13396,1201889.8799 L 2197706.38302,1202036.88075 L 2196716.37755,1202887.88563 L 2196277.00012,1203264.8878 L 2195924.12317,1203568.88954 L 2194964.99286,1204393.89427 L 2194988.11801,1204605.89547 L 2195085.74364,1205513.90058 L 2194958.11794,1205778.90208 L 2194916.24272,1205863.90256 L 2194790.61703,1206119.90402 L 2194893.99263,1206294.905 L 2195080.4937,1206609.90676 L 2195117.36911,1209087.92072 L 2195127.49422,1209800.92474 L 2195133.74429,1210209.92705 L 2195061.24389,1210280.92745 L 2194716.99199,1210616.92937 L 2193542.4855,1211765.93594 L 2193404.35974,1211901.93672 L 2193352.48445,1211952.93701 L 2193382.73462,1211979.93716 L 2193636.61106,1212208.93843 L 2193873.1124,1212421.93961 L 2193938.98778,1212481.93994 L 2193212.10879,1213572.94615 L 2192970.98247,1213957.94833 L 2193557.23583,1215034.95436 L 2193591.73609,1215936.95944 L 2193957.48818,1216491.96254 L 2194127.98915,1216750.96399 L 2194307.24017,1217021.9655 L 2194153.23935,1217513.96829 L 2194114.48913,1217517.96831 L 2186204.94493,1218428.97398 L 2169484.1016,1218425.97511 L 2168010.09338,1218199.97395 L 2160827.55333,1217099.96829 L 2160500.1765,1217049.96804 L 2160499.80155,1217705.97171 L 2160499.80157,1217938.97301 L 2160500.17657,1217989.9733 L 2160396.926,1218034.97355 L 2160030.17397,1218198.9745 L 2160220.92509,1218971.97881 L 2160262.17533,1219137.97973 L 2160269.05037,1219165.97989 L 2160261.30033,1219164.97988 L 2160074.79929,1219145.97979 L 2159875.79818,1219125.97969 L 2159813.42283,1219119.97966 L 2159801.54777,1219175.97998 L 2159691.7972,1219715.98301 L 2159136.41912,1219864.98388 L 2159044.41861,1219888.98402 L 2159142.41916,1219919.98418 L 2159346.2953,1219982.98452 L 2159670.0471,1220081.98505 L 2159468.04602,1220635.98817 L 2159514.79628,1220704.98855 L 2159771.04773,1221077.99062 L 2159653.42208,1221177.99119 L 2159417.04578,1221349.99216 L 2159383.2956,1221374.99231 L 2159416.04578,1221410.9925 L 2159824.29808,1221862.99501 L 2159932.17369,1221981.99566 L 2159891.04846,1222056.99609 L 2159873.92337,1222087.99626 L 2159603.0469,1222587.99908 L 2160077.29955,1222770.00006 L 2159857.92334,1222976.00123 L 2159610.54698,1223210.00255 L 2159481.79631,1223867.00624 L 2159428.92103,1224136.00774 L 2159105.41924,1224174.00798 L 2159136.91943,1224457.00956 L 2159145.79448,1224508.00984 L 2159176.54466,1224690.01086 L 2158476.4158,1225198.01374 L 2158088.53867,1225479.01534 L 2158236.16454,1226271.01976 L 2158318.16502,1226714.02223 L 2158405.16553,1227179.02482 L 2158415.91559,1227238.02515 L 2158370.16534,1227308.02555 L 2158311.54002,1227396.02604 L 2157924.41291,1227974.0293 L 2157659.78646,1228369.03152 L 2158448.41587,1228925.03458 L 2158451.9159,1229009.03505 L 2158479.79109,1229640.03858 L 2158491.91617,1229923.04016 L 2158031.03863,1230208.04178 L 2157913.03798,1230281.04219 L 2157806.41239,1230347.04257 L 2157790.91233,1230847.04536 L 2157773.28726,1231425.0486 L 2156426.4048,1231763.05056 L 2155682.40068,1231940.05159 L 2155308.02362,1232424.05431 L 2155255.27333,1232493.0547 L 2155166.14784,1232607.05534 L 2155007.77195,1232322.05375 L 2154876.89623,1232375.05406 L 2154227.39263,1232636.05555 L 2154053.39168,1232909.05708 L 2153630.51437,1233570.0608 L 2153578.01408,1233651.06125 L 2153684.5147,1234078.06363 L 2153707.01483,1234172.06416 L 2153805.8904,1234572.06638 L 2152764.25962,1234750.06743 L 2152055.00576,1236281.07601 L 2151259.87637,1236684.0783 L 2150168.87032,1236741.07867 L 2149447.8663,1236341.07647 L 2148853.98803,1236705.07853 L 2147968.85811,1236498.07742 L 2143112.33126,1237828.08506 L 2141505.07234,1237403.08276 L 2140349.31591,1236725.07904 L 2139625.81184,1235258.07091 L 2138415.05514,1235289.07114 L 2138307.92952,1234761.06821 L 2137959.42759,1234661.06767 L 2137851.927,1234747.06815 L 2137594.92558,1234953.06931 L 2137213.67349,1235259.07103 L 2136411.66909,1235904.07466 L 2136222.66804,1235744.07378 L 2135788.16561,1235378.07176 L 2135840.79093,1235864.07446 L 2135849.79098,1235947.07493 L 2135552.28934,1235895.07465 L 2135309.41299,1235852.07442 L 2134994.66127,1236173.07622 L 2134909.0358,1236261.07672 L 2134352.1577,1235914.07481 L 2134330.03258,1235900.07474 L 2133809.65472,1236111.07594 L 2133607.77859,1235965.07513 L 2133522.27812,1235904.0748 L 2133277.40178,1236279.0769 L 2133170.2762,1236443.07781 L 2132527.64766,1236705.0793 L 2132366.77177,1236771.07967 L 2132597.77306,1236867.0802 L 2132688.14856,1236905.0804 L 2132655.64838,1237003.08095 L 2132561.77288,1237291.08256 L 2131972.76963,1237364.08299 L 2131940.14445,1237368.08301 L 2131513.14209,1237422.08333 L 2131470.39187,1237700.08488 L 2131452.26677,1237816.08552 L 2130923.26384,1237556.0841 L 2130823.26328,1237506.08383 L 2130693.63758,1237699.08491 L 2130018.7589,1238709.09055 L 2128811.62727,1239578.09543 L 2128576.25102,1240591.10107 L 2128739.87693,1240671.10151 L 2129596.38167,1241092.10381 L 2129442.25588,1242434.11127 L 2130008.75903,1243013.11446 L 2130027.13414,1243031.11456 L 2129645.00706,1243806.11888 L 2129344.88042,1244413.12226 L 2129336.75538,1244429.12235 L 2129358.1305,1244444.12244 L 2129920.88362,1244847.12465 L 2129919.25862,1244940.12517 L 2129910.25859,1245624.12897 L 2130406.13635,1246121.13171 L 2130474.76173,1246190.13209 L 2130438.26155,1246774.13534 L 2130437.13655,1246791.13543 L 2130246.0105,1247068.13698 L 2130036.13435,1247373.13868 L 2129866.75843,1247617.14004 L 2130162.76007,1247830.14122 L 2130276.6357,1247912.14167 L 2130544.13718,1248104.14272 L 2130542.88718,1248175.14312 L 2130518.88709,1249499.15048 L 2130511.26206,1249968.15308 L 2130510.26206,1249990.1532 L 2130469.26183,1249995.15323 L 2129294.13035,1250156.15416 L 2129394.25591,1250365.15532 L 2129660.8824,1250924.15842 L 2129510.88158,1251200.15996 L 2129246.13013,1251690.16268 L 2129042.00402,1252064.16477 L 2128829.00285,1252456.16695 L 2128937.62847,1253002.16998 L 2129272.75533,1253200.17107 L 2129319.38058,1253228.17122 L 2129084.2543,1253603.17331 L 2129337.75572,1254413.17781 L 2129283.25542,1254439.17795 L 2127845.3725,1255121.18177 L 2127342.24474,1255704.18502 L 2127246.8692,1255404.18336 L 2127186.86887,1255216.18232 L 2127174.2438,1255175.18209 L 2127065.2432,1255164.18203 L 2126942.99252,1255152.18197 L 2126335.73917,1255093.18165 L 2126236.73862,1255141.18192 L 2126072.61272,1255221.18237 L 2125280.35836,1255608.18454 L 2124909.23132,1255790.18556 L 2124830.23088,1255828.18577 L 2124258.97777,1257256.1937 L 2124635.85486,1257780.1966 L 2124804.8558,1258015.1979 L 2124461.6039,1257799.19671 L 2124404.72858,1257764.19652 L 2124293.60297,1257818.19682 L 2123894.10077,1258012.19791 L 2123709.97476,1258101.1984 L 2123870.10064,1258136.19859 L 2124327.72817,1258238.19915 L 2124373.72844,1259211.20455 L 2124374.85345,1259224.20462 L 2123615.84928,1259866.2082 L 2123663.72455,1259950.20866 L 2123847.60057,1260276.21046 L 2123526.72381,1260748.21309 L 2123511.84872,1260770.21321 L 2123555.72397,1260818.21348 L 2124325.85323,1261634.21799 L 2124243.60277,1261634.21799 L 2123382.72303,1261634.218 L 2123366.84794,1261710.21843 L 2123301.84759,1262018.22014 L 2123187.22197,1262569.22319 L 2123174.2219,1262634.22355 L 2123072.97134,1262650.22364 L 2122237.84174,1262776.22436 L 2122416.09272,1263035.22579 L 2122609.7188,1263318.22736 L 2122579.21864,1264358.23312 L 2121976.09032,1264711.23509 L 2121870.96475,1264788.23552 L 2120701.08331,1265644.24027 L 2121764.33917,1265853.24142 L 2122136.34122,1265926.24182 L 2121600.33828,1266562.24535 L 2121568.5881,1266597.24555 L 2122120.71615,1267297.24942 L 2122238.5918,1267446.25025 L 2122452.09298,1267420.2501 L 2122701.84436,1267389.24993 L 2122730.21952,1267615.25118 L 2122924.0956,1269168.25979 L 2123540.724,1269492.26158 L 2123862.72578,1270486.2671 L 2123882.85089,1270545.26742 L 2123843.22568,1270575.26759 L 2123170.59697,1271082.2704 L 2121200.71112,1271459.2725 L 2120949.08473,1271923.27508 L 2120917.20956,1271981.2754 L 2120986.08494,1272185.27653 L 2121132.96075,1272614.27891 L 2120718.33347,1272894.28046 L 2120093.33003,1273316.2828 L 2120787.70885,1274070.28698 L 2121030.33519,1274332.28843 L 2121580.21322,1274928.29173 L 2121263.96148,1275653.29575 L 2121626.96348,1276401.2999 L 2121676.08875,1276502.30046 L 2121700.71388,1276554.30075 L 2121077.83545,1277353.30517 L 2120158.08038,1277706.30713 L 2120118.95517,1277721.30721 L 2119955.20427,1277955.3085 L 2118965.07381,1279376.31637 L 2118070.31888,1279700.31816 L 2118073.06889,1279718.31826 L 2118219.19469,1280560.32293 L 2118448.57095,1281889.33029 L 2118479.69612,1282068.33128 L 2118449.57095,1282104.33148 L 2118179.94446,1282433.3333 L 2118195.06954,1282862.33568 L 2118204.9446,1283150.33727 L 2117410.06521,1283930.34158 L 2117281.5645,1284056.34228 L 2117347.06485,1285573.35068 L 2115703.05578,1287035.35875 L 2115811.68137,1287569.36171 L 2114823.55092,1288178.36506 L 2114784.6757,1288581.36729 L 2113627.54433,1289270.37109 L 2112804.03976,1291313.38237 L 2109846.64851,1290750.3792 L 2109723.27286,1289268.371 L 2108888.76825,1290794.37942 L 2106826.63193,1290059.37532 L 2104779.74577,1285522.35022 L 2103251.23732,1289583.37262 L 2102289.6069,1296241.40934 L 2101734.85374,1300079.4305 L 2102948.11024,1304700.45605 L 2104033.24115,1306063.46362 L 2102288.48153,1307100.46927 L 2102564.60801,1308140.47502 L 2102148.8557,1308641.47777 L 2101884.10424,1308922.47931 L 2102208.10598,1309732.48379 L 2101858.72904,1310425.4876 L 2101866.22902,1311629.49424 L 2101595.10251,1312265.49774 L 2101549.72726,1312247.49764 L 2100750.72289,1311913.49576 L 2098696.21134,1317722.52769 L 2099467.21525,1323216.55803 L 2099696.96641,1324850.56706 L 2105134.6214,1322178.55265 L 2106653.62979,1321431.54862 L 2108475.88983,1320948.54606 L 2108748.89132,1321123.54704 L 2108825.64166,1322509.55471 L 2109230.89386,1322829.5565 L 2109327.89434,1323677.56119 L 2108718.0159,1325227.56972 L 2107271.88287,1326596.57719 L 2106992.75628,1327394.58158 L 2106432.62818,1327770.58362 L 2105166.12117,1328622.58824 L 2100581.22097,1329174.59097 L 2102429.73099,1330986.6011 L 2104438.86687,1332955.61211 L 2104091.98985,1334541.62084 L 2103742.11291,1334798.62223 L 2103578.98702,1334791.62218 L 2102504.85613,1334744.62184 L 2102283.10489,1334940.62291 L 2102281.47989,1334939.6229 L 2101472.60039,1335662.62683 L 2101437.2252,1335694.627 L 2101346.09968,1335949.6284 L 2101196.09882,1336364.63068 L 2101147.22355,1336357.63064 L 2100485.71993,1336260.63005 L 2099303.8384,1336894.63345 L 2099300.46338,1337025.63417 L 2099290.96329,1337408.63628 L 2099284.58824,1337654.63764 L 2099108.83726,1337832.63861 L 2098754.96029,1338189.64055 L 2098516.83397,1338430.64186 L 2097641.7041,1339313.64665 L 2097538.07852,1339418.64722 L 2096877.57492,1339244.64621 L 2095448.94204,1339877.64958 L 2095555.44255,1340760.65445 L 2095584.44269,1340997.65576 L 2095523.81735,1341120.65643 L 2095427.94181,1341312.65748 L 2095294.94105,1341580.65895 L 2095219.69063,1341731.65977 L 2094868.68865,1342436.66363 L 2094705.06272,1342766.66543 L 2095056.43962,1343103.66732 L 2095311.06599,1343346.66868 L 2095300.06591,1343617.67017 L 2095263.56563,1344496.67501 L 2095343.94107,1344554.67534 L 2095976.56949,1345010.67791 L 2095978.56949,1345139.67862 L 2095984.94448,1345615.68124 L 2095986.56948,1345757.68203 L 2096045.06979,1345863.68262 L 2096498.6972,1346688.6872 L 2096527.94736,1346741.6875 L 2096645.82298,1346955.68869 L 2096615.07276,1347570.69208 L 2095964.06919,1347583.69209 L 2095274.56534,1348343.69621 L 2095277.06535,1348377.6964 L 2095300.06544,1348789.69867 L 2095327.81555,1349286.70141 L 2095436.56596,1351217.71206 L 2094052.43317,1353259.72317 L 2093106.67777,1355513.73549 L 2093009.05221,1355746.73676 L 2092332.54834,1357358.74557 L 2092300.79816,1357435.74599 L 2091466.79338,1359422.75684 L 2089065.53023,1359478.75688 L 2089001.15451,1362834.77534 L 2088459.40131,1364988.78713 L 2086610.01597,1366899.79742 L 2084910.00647,1368655.80687 L 2080909.60911,1372787.82908 L 2079833.72828,1372456.82712 L 2079327.60053,1372300.8262 L 2076901.83704,1374349.83714 L 2069303.42026,1377145.85146 L 2063248.88749,1375837.8435 L 2061455.00295,1374217.8344 L 2060569.49855,1370936.81636 L 2059213.74138,1369385.80771 L 2050452.44408,1367383.79571 L 2049208.68737,1367098.794 L 2048730.18479,1367006.79344 L 2044731.41293,1368688.80212 L 2043926.40863,1368237.79956 L 2042835.52762,1369161.80445 L 2042298.77451,1370786.81323 L 2041535.64524,1371971.81958 L 2039517.75892,1375108.83638 L 2037274.62134,1378593.85502 L 2037593.24789,1379811.86168 L 2036352.86591,1381843.87255 L 2035909.36341,1382569.87643 L 2039388.38185,1385125.89083 L 2039275.38105,1386433.89792 L 2039920.75942,1387266.90255 L 2040256.511,1388815.91102 L 2038835.62822,1389493.9145 L 2037756.62214,1391110.92312 L 2036940.24271,1391237.92369 L 2036616.491,1391005.92238 L 2036293.11441,1389969.9167 L 2035250.4835,1391772.92633 L 2033778.35051,1392063.92768 L 2032401.34278,1393958.93776 L 2032136.21626,1394539.94087 L 2029612.45175,1400072.97048 L 2028257.19395,1403042.98637 L 2027806.19104,1405831.00141 L 2026795.68508,1408778.51721 L 2026523.43347,1409570.77146 L 2026163.55634,1410621.02709 L 2023110.41423,1414269.0463 L 2022907.16309,1414512.04758 L 2022663.16172,1414803.04911 L 2020142.27259,1417815.06494 L 2019960.52157,1418033.06609 L 2019061.39153,1419107.07173 L 2018201.5117,1420135.07712 L 2010751.97002,1428401.12032 L 2007022.19985,1429117.12341 L 2005297.56591,1427583.11478 L 2004193.4348,1428521.11961 L 2002280.92369,1432656.1415 L 2004755.1868,1433408.14609 L 2004206.18374,1433936.14882 L 2004420.05984,1434174.15015 L 2004062.05775,1434966.15434 L 2002909.30137,1435919.15923 L 2002418.67375,1435843.15871 L 2002068.29679,1436253.16085 L 2001615.54424,1436784.16361 L 2001438.54325,1436991.16469 L 2000190.91125,1438454.1723 L 1999628.28314,1438889.17452 L 1997610.52199,1440452.18248 L 1995543.26135,1438506.17155 L 1995185.63398,1440583.18265 L 1995883.5126,1441104.18561 L 1991866.23934,1448868.22645 L 1991315.23593,1450869.23708 L 1991629.36249,1451363.23981 L 1991294.48557,1451890.24256 L 1985112.82689,1454652.2559 L 1985187.95203,1455722.26166 L 1986139.45366,1469349.33508 L 1985692.45121,1469588.33624 L 1984008.19117,1473559.35711 L 1985553.32438,1473681.35819 L 1986580.07938,1475468.36807 L 1983928.43971,1477369.37755 L 1983682.31336,1477486.37811 L 1983179.06061,1477725.37925 L 1978328.15749,1485727.42081 L 1982059.30256,1485146.41876 L 1981627.42491,1486358.42514 L 1979699.28805,1491777.45365 L 1978535.40587,1495049.47086 L 1981144.54417,1497135.48283 L 1983388.05602,1497534.48566 L 1983751.05794,1497599.48612 L 1983620.55718,1497816.48724 L 1983569.43188,1497902.48769 L 1983878.80849,1498028.48846 L 1984101.30965,1498118.48901 L 1984049.43411,1498990.49368 L 1984044.55906,1499067.49409 L 1984095.93433,1499093.49425 L 1984521.31154,1499302.4955 L 1984595.31192,1499338.49571 L 1984470.0612,1499534.49673 L 1984378.31066,1499678.49747 L 1984621.56155,1501027.5048 L 1984636.0616,1501112.50526 L 1984680.93676,1501362.50661 L 1985051.06359,1501839.50929 L 1985232.06449,1502072.5106 L 1985801.44231,1502805.51471 L 1985773.44192,1503579.51886 L 1985016.31258,1504510.52363 L 1983364.17882,1504317.52208 L 1982267.29758,1505542.52831 L 1982207.04723,1505609.52865 L 1982274.42249,1505932.53041 L 1982381.0479,1506453.53324 L 1982401.423,1506465.53331 L 1982472.42337,1506509.53357 L 1982736.42473,1506670.53451 L 1982549.04856,1507191.53725 L 1982977.92576,1507501.53905 L 1982992.80083,1507512.53912 L 1982978.42575,1507538.53925 L 1982874.17513,1507716.54018 L 1982633.92372,1508126.5423 L 1982375.0472,1508570.5446 L 1982456.79751,1508952.54668 L 1982822.29951,1508798.54597 L 1982578.92299,1509499.54966 L 1982749.04871,1510090.55288 L 1982783.17386,1510210.55354 L 1983218.92615,1510311.55422 L 1983147.17569,1510565.55556 L 1989037.58217,1510572.55749 L 1992629.10092,1512048.56659 L 1994116.35869,1512659.57037 L 1994274.35951,1512746.57089 L 2003022.52985,1517608.59996 L 2001045.01804,1521232.61887 L 2003187.52974,1520628.61632 L 2008126.43174,1519235.61043 L 2010934.32185,1519222.61129 L 2010633.94537,1518782.60881 L 2012095.58008,1513084.57846 L 2012757.33446,1510502.5647 L 2016202.22798,1510611.56638 L 2016916.60642,1511901.5736 L 2017330.1086,1512051.57454 L 2017564.235,1511595.57215 L 2018318.11399,1511836.57369 L 2019487.12055,1511007.56957 L 2022528.0118,1511485.57313 L 2025628.52838,1511972.57676 L 2031722.68657,1511146.57421 L 2031160.80834,1511771.57743 L 2029406.79824,1513720.58746 L 2031541.81023,1512290.58037 L 2031759.31142,1512266.58031 L 2032122.8134,1512226.58021 L 2032490.3159,1510600.57148 L 2033059.31926,1509675.56663 L 2033572.44712,1509422.56541 L 2033790.32333,1509315.5649 L 2034507.20232,1508962.5632 L 2034584.82766,1509213.56459 L 2037005.71503,1511564.57815 L 2037036.46519,1511593.57832 L 2037439.71676,1513541.58905 L 2037498.34206,1513584.58931 L 2037954.84443,1513919.59128 L 2038496.597,1515057.59765 L 2038809.22348,1515712.60132 L 2041174.48546,1518332.61636 L 2043425.8723,1519488.6234 L 2043911.62461,1520491.62903 L 2046698.76446,1521315.63444 L 2046872.26533,1521543.63574 L 2047057.51626,1521783.63711 L 2047661.14428,1522570.6416 L 2047697.64431,1523095.64448 L 2049574.27898,1524671.65371 L 2053043.54729,1526332.66395 L 2054276.4288,1526923.66759 L 2054275.30371,1527178.66899 L 2054269.80325,1528473.67607 L 2052155.4171,1527403.66951 L 2046626.63799,1524604.65237 L 2044252.8755,1523402.64502 L 2044486.74972,1529555.67867 L 2044260.74831,1530093.68153 L 2044449.2483,1533141.69823 L 2044535.24829,1534528.70583 L 2044808.49825,1538922.72991 L 2045303.6231,1546898.77364 L 2046789.87934,1551946.80176 L 2048301.26263,1551753.80126 L 2048935.76627,1551217.79856 L 2051172.40322,1551794.80254 L 2052177.15813,1553306.81118 L 2055633.92681,1553688.81455 L 2056007.55349,1554645.81993 L 2056993.68293,1557173.83415 L 2054192.91772,1557059.83247 L 2054852.6707,1558676.84158 L 2055181.92251,1558648.84155 L 2056274.67806,1559717.84781 L 2056157.80167,1561708.85868 L 2056577.42882,1562068.86081 L 2056900.68016,1563175.867 L 2057618.18396,1563459.86883 L 2056643.55285,1565547.87989 L 2056441.80159,1565979.88218 L 2056451.67638,1566665.88595 L 2056456.80125,1567049.88805 L 2056457.42623,1567118.88843 L 2056167.79937,1567850.89233 L 2056115.54903,1567981.89303 L 2055815.17211,1568735.89704 L 2056163.67372,1569478.90125 L 2059369.19066,1570844.90999 L 2060475.82151,1571315.91301 L 2060114.6934,1574220.9288 L 2059416.68735,1579835.95932 L 2059337.56166,1580471.96278 L 2059879.31422,1581465.96845 L 2060677.69384,1580805.96515 L 2062540.57833,1582485.97513 L 2063589.83392,1582826.97743 L 2063580.95834,1584125.98456 L 2062935.82964,1584556.98666 L 2063805.95899,1585548.99247 L 2067709.60349,1590003.01856 L 2069205.61096,1591711.02858 L 2071312.62122,1594752.0462 L 2072569.87868,1593392.03924 L 2073691.75998,1593002.03757 L 2074996.01555,1596761.05882 L 2072395.50146,1596380.05562 L 2072350.37419,1601144.08183 L 2073260.62918,1601127.08213 L 2074094.63399,1600560.07937 L 2076115.64491,1600944.08235 L 2076046.01883,1602551.09118 L 2075460.51466,1604788.10325 L 2076970.39789,1604903.10454 L 2077002.39806,1604906.10457 L 2076962.02301,1604517.10241 L 2076948.27299,1604389.1017 L 2077325.77505,1604410.10198 L 2077429.02561,1604415.10205 L 2077552.02629,1604422.10215 L 2077624.02662,1604573.10301 L 2078990.03285,1607464.11955 L 2078742.78145,1607565.12 L 2078565.28045,1607637.12032 L 2078561.53043,1607639.12033 L 2077993.90185,1608690.12588 L 2078024.27698,1608768.12632 L 2078218.90284,1609246.12904 L 2078175.90256,1609357.12964 L 2078121.7772,1609499.13039 L 2077898.90072,1610087.13354 L 2077503.77309,1611123.13908 L 2077592.27319,1612013.14403 L 2075698.51272,1612185.14413 L 2075047.63394,1612667.1465 L 2076202.63955,1614303.15604 L 2075158.7586,1614791.15826 L 2079057.02936,1616211.16784 L 2079271.7797,1618071.1782 L 2080005.78387,1617763.17684 L 2079853.28258,1618756.18225 L 2080124.28385,1619239.18504 L 2080239.40939,1619444.18622 L 2080089.78344,1619739.18778 L 2079931.65743,1620050.18943 L 2080032.53284,1620365.19121 L 2080154.40834,1620747.19338 L 2079733.78095,1620915.19411 L 2079667.90558,1620942.19423 L 2079895.40668,1621259.19609 L 2079807.65519,1623467.20824 L 2079801.6551,1623598.20896 L 2079866.78048,1623544.20869 L 2080074.4067,1623372.20783 L 2080203.78246,1623265.2073 L 2080301.28303,1623184.2069 L 2080313.53305,1623291.2075 L 2080332.28307,1623466.20847 L 2080385.53314,1623958.21121 L 2080386.65814,1623972.21129 L 2080403.90824,1623969.21128 L 2080883.53591,1623878.211 L 2081159.03678,1625287.21891 L 2081087.41124,1625606.22064 L 2080988.66049,1626057.22308 L 2081115.28616,1626117.22347 L 2081359.41245,1626233.22423 z\" /></g></svg>"
      ],
      "text/plain": [
       "<shapely.geometry.polygon.Polygon at 0x122abce90>"
      ]
     },
     "execution_count": 36,
     "metadata": {},
     "output_type": "execute_result"
    }
   ],
   "source": [
    "estado_geom"
   ]
  },
  {
   "cell_type": "code",
   "execution_count": 37,
   "metadata": {
    "collapsed": false
   },
   "outputs": [
    {
     "data": {
      "text/plain": [
       "(1978328.1574918753, 1149428.577085292, 2452336.9705960234, 1648691.357150454)"
      ]
     },
     "execution_count": 37,
     "metadata": {},
     "output_type": "execute_result"
    }
   ],
   "source": [
    "estado_geom.bounds"
   ]
  },
  {
   "cell_type": "code",
   "execution_count": 38,
   "metadata": {
    "collapsed": false
   },
   "outputs": [],
   "source": [
    "window_estado = mammal_1.window(*estado_geom.bounds)"
   ]
  },
  {
   "cell_type": "code",
   "execution_count": 38,
   "metadata": {
    "collapsed": true
   },
   "outputs": [],
   "source": [
    "?mammal_1.window"
   ]
  },
  {
   "cell_type": "code",
   "execution_count": 39,
   "metadata": {
    "collapsed": false
   },
   "outputs": [
    {
     "data": {
      "text/plain": [
       "((723, 1224), (1117, 1592))"
      ]
     },
     "execution_count": 39,
     "metadata": {},
     "output_type": "execute_result"
    }
   ],
   "source": [
    "window_estado"
   ]
  },
  {
   "cell_type": "code",
   "execution_count": 40,
   "metadata": {
    "collapsed": true
   },
   "outputs": [],
   "source": [
    "out_transform_estado = mammal_1.window_transform(window_estado)"
   ]
  },
  {
   "cell_type": "code",
   "execution_count": 41,
   "metadata": {
    "collapsed": false
   },
   "outputs": [
    {
     "data": {
      "text/plain": [
       "Affine(1000.0, 0.0, 1977679.3743839164,\n",
       "       0.0, -1000.0, 1649447.1687393188)"
      ]
     },
     "execution_count": 41,
     "metadata": {},
     "output_type": "execute_result"
    }
   ],
   "source": [
    "out_transform_estado"
   ]
  },
  {
   "cell_type": "code",
   "execution_count": 42,
   "metadata": {
    "collapsed": true
   },
   "outputs": [],
   "source": [
    "distribution_cut = mammal_1.read(window=window_estado, masked=True)"
   ]
  },
  {
   "cell_type": "code",
   "execution_count": 43,
   "metadata": {
    "collapsed": false
   },
   "outputs": [
    {
     "data": {
      "text/plain": [
       "(1, 501, 475)"
      ]
     },
     "execution_count": 43,
     "metadata": {},
     "output_type": "execute_result"
    }
   ],
   "source": [
    "distribution_cut.shape"
   ]
  },
  {
   "cell_type": "code",
   "execution_count": 44,
   "metadata": {
    "collapsed": true
   },
   "outputs": [],
   "source": [
    "from rasterio.features import rasterize"
   ]
  },
  {
   "cell_type": "code",
   "execution_count": 48,
   "metadata": {
    "collapsed": false
   },
   "outputs": [],
   "source": [
    "estado_mask = rasterize([ estado_geom ], out_shape=distribution_cut.shape[1:], transform=out_transform_estado, fill=0, default_value=1)"
   ]
  },
  {
   "cell_type": "code",
   "execution_count": 49,
   "metadata": {
    "collapsed": false
   },
   "outputs": [
    {
     "data": {
      "text/plain": [
       "<matplotlib.image.AxesImage at 0x11f45fed0>"
      ]
     },
     "execution_count": 49,
     "metadata": {},
     "output_type": "execute_result"
    },
    {
     "data": {
      "image/png": "[encoded data removed]",
      "text/plain": [
       "<matplotlib.figure.Figure at 0x124785d10>"
      ]
     },
     "metadata": {},
     "output_type": "display_data"
    }
   ],
   "source": [
    "pyplot.imshow(estado_mask, cmap='BrBG')"
   ]
  },
  {
   "cell_type": "code",
   "execution_count": 50,
   "metadata": {
    "collapsed": false
   },
   "outputs": [
    {
     "data": {
      "text/plain": [
       "<matplotlib.image.AxesImage at 0x11f61b990>"
      ]
     },
     "execution_count": 50,
     "metadata": {},
     "output_type": "execute_result"
    },
    {
     "data": {
      "image/png": "[encoded data removed]",
      "text/plain": [
       "<matplotlib.figure.Figure at 0x11f3e46d0>"
      ]
     },
     "metadata": {},
     "output_type": "display_data"
    }
   ],
   "source": [
    "pyplot.imshow(estado_mask*distribution_cut[0,:,:], cmap='BrBG')"
   ]
  },
  {
   "cell_type": "code",
   "execution_count": null,
   "metadata": {
    "collapsed": true
   },
   "outputs": [],
   "source": []
  },
  {
   "cell_type": "code",
   "execution_count": 120,
   "metadata": {
    "collapsed": true
   },
   "outputs": [],
   "source": [
    "out_image = mammal_1.read(window=window, masked=True)"
   ]
  },
  {
   "cell_type": "code",
   "execution_count": 121,
   "metadata": {
    "collapsed": true
   },
   "outputs": [],
   "source": [
    "out_shape = out_image.shape[1:]"
   ]
  },
  {
   "cell_type": "code",
   "execution_count": 122,
   "metadata": {
    "collapsed": true
   },
   "outputs": [],
   "source": [
    "from rasterio.features import geometry_mask\n",
    "\n"
   ]
  },
  {
   "cell_type": "code",
   "execution_count": 123,
   "metadata": {
    "collapsed": false
   },
   "outputs": [],
   "source": [
    "shape_mask = geometry_mask(estados_features[:5], transform=out_transform, invert=False,\n",
    "                               out_shape=out_shape, all_touched=False)"
   ]
  },
  {
   "cell_type": "code",
   "execution_count": 124,
   "metadata": {
    "collapsed": false
   },
   "outputs": [],
   "source": [
    "out_image.mask = out_image.mask | shape_mask"
   ]
  },
  {
   "cell_type": "code",
   "execution_count": 125,
   "metadata": {
    "collapsed": true
   },
   "outputs": [],
   "source": [
    "out_image.fill_value = mammal_1.nodata"
   ]
  },
  {
   "cell_type": "code",
   "execution_count": 126,
   "metadata": {
    "collapsed": true
   },
   "outputs": [],
   "source": [
    "for i in range(mammal_1.count):\n",
    "        out_image[i] = out_image[i].filled(mammal_1.nodata)"
   ]
  },
  {
   "cell_type": "code",
   "execution_count": 127,
   "metadata": {
    "collapsed": false
   },
   "outputs": [
    {
     "data": {
      "text/plain": [
       "<matplotlib.image.AxesImage at 0x1121b0b90>"
      ]
     },
     "execution_count": 127,
     "metadata": {},
     "output_type": "execute_result"
    },
    {
     "data": {
      "image/png": "[encoded data removed]",
      "text/plain": [
       "<matplotlib.figure.Figure at 0x10890d090>"
      ]
     },
     "metadata": {},
     "output_type": "display_data"
    }
   ],
   "source": [
    "pyplot.imshow(np.ma.masked_equal(out_image[0,:,:], mammal_1.nodata), cmap='BrBG')"
   ]
  },
  {
   "cell_type": "code",
   "execution_count": null,
   "metadata": {
    "collapsed": true
   },
   "outputs": [],
   "source": []
  },
  {
   "cell_type": "code",
   "execution_count": null,
   "metadata": {
    "collapsed": true
   },
   "outputs": [],
   "source": []
  },
  {
   "cell_type": "code",
   "execution_count": null,
   "metadata": {
    "collapsed": true
   },
   "outputs": [],
   "source": []
  },
  {
   "cell_type": "code",
   "execution_count": 57,
   "metadata": {
    "collapsed": false
   },
   "outputs": [
    {
     "ename": "TypeError",
     "evalue": "argument of type 'Polygon' is not iterable",
     "output_type": "error",
     "traceback": [
      "\u001b[0;31m---------------------------------------------------------------------------\u001b[0m",
      "\u001b[0;31mTypeError\u001b[0m                                 Traceback (most recent call last)",
      "\u001b[0;32m<ipython-input-57-bb94a1e5d927>\u001b[0m in \u001b[0;36m<module>\u001b[0;34m()\u001b[0m\n\u001b[1;32m      1\u001b[0m out_image, out_transform = rasterio.tools.mask.mask(mammal_1, estados_features,\n\u001b[0;32m----> 2\u001b[0;31m                                                         crop=True)\n\u001b[0m",
      "\u001b[0;32m/Users/jbarrios/.virtualenvs/gp/lib/python2.7/site-packages/rasterio/tools/mask.pyc\u001b[0m in \u001b[0;36mmask\u001b[0;34m(*args, **kwargs)\u001b[0m\n\u001b[1;32m     10\u001b[0m     \u001b[0;32mimport\u001b[0m \u001b[0mwarnings\u001b[0m\u001b[0;34m\u001b[0m\u001b[0m\n\u001b[1;32m     11\u001b[0m     \u001b[0mwarnings\u001b[0m\u001b[0;34m.\u001b[0m\u001b[0mwarn\u001b[0m\u001b[0;34m(\u001b[0m\u001b[0;34m\"Deprecated; Use rasterio.mask instead\"\u001b[0m\u001b[0;34m,\u001b[0m \u001b[0mDeprecationWarning\u001b[0m\u001b[0;34m)\u001b[0m\u001b[0;34m\u001b[0m\u001b[0m\n\u001b[0;32m---> 12\u001b[0;31m     \u001b[0;32mreturn\u001b[0m \u001b[0mrasterio\u001b[0m\u001b[0;34m.\u001b[0m\u001b[0mmask\u001b[0m\u001b[0;34m.\u001b[0m\u001b[0mmask\u001b[0m\u001b[0;34m(\u001b[0m\u001b[0;34m*\u001b[0m\u001b[0margs\u001b[0m\u001b[0;34m,\u001b[0m \u001b[0;34m**\u001b[0m\u001b[0mkwargs\u001b[0m\u001b[0;34m)\u001b[0m\u001b[0;34m\u001b[0m\u001b[0m\n\u001b[0m",
      "\u001b[0;32m/Users/jbarrios/.virtualenvs/gp/lib/python2.7/site-packages/rasterio/mask.pyc\u001b[0m in \u001b[0;36mmask\u001b[0;34m(raster, shapes, nodata, crop, all_touched, invert)\u001b[0m\n\u001b[1;32m     55\u001b[0m             \u001b[0mnodata\u001b[0m \u001b[0;34m=\u001b[0m \u001b[0;36m0\u001b[0m\u001b[0;34m\u001b[0m\u001b[0m\n\u001b[1;32m     56\u001b[0m \u001b[0;34m\u001b[0m\u001b[0m\n\u001b[0;32m---> 57\u001b[0;31m     \u001b[0mall_bounds\u001b[0m \u001b[0;34m=\u001b[0m \u001b[0;34m[\u001b[0m\u001b[0mrasterio\u001b[0m\u001b[0;34m.\u001b[0m\u001b[0mfeatures\u001b[0m\u001b[0;34m.\u001b[0m\u001b[0mbounds\u001b[0m\u001b[0;34m(\u001b[0m\u001b[0mshape\u001b[0m\u001b[0;34m)\u001b[0m \u001b[0;32mfor\u001b[0m \u001b[0mshape\u001b[0m \u001b[0;32min\u001b[0m \u001b[0mshapes\u001b[0m\u001b[0;34m]\u001b[0m\u001b[0;34m\u001b[0m\u001b[0m\n\u001b[0m\u001b[1;32m     58\u001b[0m     \u001b[0mminxs\u001b[0m\u001b[0;34m,\u001b[0m \u001b[0mminys\u001b[0m\u001b[0;34m,\u001b[0m \u001b[0mmaxxs\u001b[0m\u001b[0;34m,\u001b[0m \u001b[0mmaxys\u001b[0m \u001b[0;34m=\u001b[0m \u001b[0mzip\u001b[0m\u001b[0;34m(\u001b[0m\u001b[0;34m*\u001b[0m\u001b[0mall_bounds\u001b[0m\u001b[0;34m)\u001b[0m\u001b[0;34m\u001b[0m\u001b[0m\n\u001b[1;32m     59\u001b[0m     \u001b[0mmask_bounds\u001b[0m \u001b[0;34m=\u001b[0m \u001b[0;34m(\u001b[0m\u001b[0mmin\u001b[0m\u001b[0;34m(\u001b[0m\u001b[0mminxs\u001b[0m\u001b[0;34m)\u001b[0m\u001b[0;34m,\u001b[0m \u001b[0mmin\u001b[0m\u001b[0;34m(\u001b[0m\u001b[0mminys\u001b[0m\u001b[0;34m)\u001b[0m\u001b[0;34m,\u001b[0m \u001b[0mmax\u001b[0m\u001b[0;34m(\u001b[0m\u001b[0mmaxxs\u001b[0m\u001b[0;34m)\u001b[0m\u001b[0;34m,\u001b[0m \u001b[0mmax\u001b[0m\u001b[0;34m(\u001b[0m\u001b[0mmaxys\u001b[0m\u001b[0;34m)\u001b[0m\u001b[0;34m)\u001b[0m\u001b[0;34m\u001b[0m\u001b[0m\n",
      "\u001b[0;32m/Users/jbarrios/.virtualenvs/gp/lib/python2.7/site-packages/rasterio/features.pyc\u001b[0m in \u001b[0;36mbounds\u001b[0;34m(geometry)\u001b[0m\n\u001b[1;32m    320\u001b[0m         \u001b[0mBounding\u001b[0m \u001b[0mbox\u001b[0m\u001b[0;34m:\u001b[0m \u001b[0;34m(\u001b[0m\u001b[0mminx\u001b[0m\u001b[0;34m,\u001b[0m \u001b[0mminy\u001b[0m\u001b[0;34m,\u001b[0m \u001b[0mmaxx\u001b[0m\u001b[0;34m,\u001b[0m \u001b[0mmaxy\u001b[0m\u001b[0;34m)\u001b[0m\u001b[0;34m\u001b[0m\u001b[0m\n\u001b[1;32m    321\u001b[0m     \"\"\"\n\u001b[0;32m--> 322\u001b[0;31m     \u001b[0;32mif\u001b[0m \u001b[0;34m'bbox'\u001b[0m \u001b[0;32min\u001b[0m \u001b[0mgeometry\u001b[0m\u001b[0;34m:\u001b[0m\u001b[0;34m\u001b[0m\u001b[0m\n\u001b[0m\u001b[1;32m    323\u001b[0m         \u001b[0;32mreturn\u001b[0m \u001b[0mtuple\u001b[0m\u001b[0;34m(\u001b[0m\u001b[0mgeometry\u001b[0m\u001b[0;34m[\u001b[0m\u001b[0;34m'bbox'\u001b[0m\u001b[0;34m]\u001b[0m\u001b[0;34m)\u001b[0m\u001b[0;34m\u001b[0m\u001b[0m\n\u001b[1;32m    324\u001b[0m \u001b[0;34m\u001b[0m\u001b[0m\n",
      "\u001b[0;31mTypeError\u001b[0m: argument of type 'Polygon' is not iterable"
     ]
    }
   ],
   "source": [
    "out_image, out_transform = rasterio.tools.mask.mask(mammal_1, estados_features,\n",
    "                                                        crop=True)"
   ]
  },
  {
   "cell_type": "code",
   "execution_count": null,
   "metadata": {
    "collapsed": true
   },
   "outputs": [],
   "source": []
  },
  {
   "cell_type": "code",
   "execution_count": null,
   "metadata": {
    "collapsed": true
   },
   "outputs": [],
   "source": []
  }
 ],
 "metadata": {
  "kernelspec": {
   "display_name": "Python 2",
   "language": "python",
   "name": "python2"
  }
 },
 "nbformat": 4,
 "nbformat_minor": 2
}
